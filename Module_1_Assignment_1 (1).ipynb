{
  "nbformat": 4,
  "nbformat_minor": 0,
  "metadata": {
    "colab": {
      "provenance": []
    },
    "kernelspec": {
      "name": "python3",
      "display_name": "Python 3"
    },
    "language_info": {
      "name": "python"
    }
  },
  "cells": [
    {
      "cell_type": "markdown",
      "source": [
        "1. Which industries commonly use Deep Learning for image recognition applications?\n",
        "\n",
        "* a. Healthcare\n",
        "* b. Manufacturing\n",
        "* c. Retail\n",
        "* d. All of the above"
      ],
      "metadata": {
        "id": "A8yG5CWrLGj9"
      }
    },
    {
      "cell_type": "code",
      "source": [
        "# All of the Above"
      ],
      "metadata": {
        "id": "W75DIp0iLHrD"
      },
      "execution_count": null,
      "outputs": []
    },
    {
      "cell_type": "markdown",
      "source": [
        "2. What distinguishes Deep Learning from traditional Machine Learning?\n",
        "* a. Depth of Neural Networks\n",
        "* b. Type of Algorithms used\n",
        "* c. Machine Learning is an evolution of Deep Learning\n",
        "* d. Volume of data processed\n",
        "\n",
        "\n",
        "* i. a,d\n",
        "* ii. a,b,c,d\n",
        "* iii. a,c,d\n",
        "* iv. a,b"
      ],
      "metadata": {
        "id": "nZRyoYTwLWE4"
      }
    },
    {
      "cell_type": "code",
      "source": [
        "# i. a,d"
      ],
      "metadata": {
        "id": "QK5pE8IeLwj6"
      },
      "execution_count": null,
      "outputs": []
    },
    {
      "cell_type": "markdown",
      "source": [
        "3. Which metrics are commonly used to evaluate the performance of a classification\n",
        "model?\n",
        "* a. Mean squared error\n",
        "* b. Root mean squared error\n",
        "* c. F1 score\n",
        "* d. R-squared"
      ],
      "metadata": {
        "id": "v-V8Zpk_MrGT"
      }
    },
    {
      "cell_type": "code",
      "source": [
        "# c. F1 score"
      ],
      "metadata": {
        "id": "ixnfRmcUMsWm"
      },
      "execution_count": null,
      "outputs": []
    },
    {
      "cell_type": "markdown",
      "source": [
        "4.Which of the following are the key components of Deep Learning (DL)?\n",
        "* a. Decision Trees\n",
        "* b. Neural Networks\n",
        "* c. Support Vector Machines\n",
        "* d. K-Means Clustering\n"
      ],
      "metadata": {
        "id": "OqTeB914M2ks"
      }
    },
    {
      "cell_type": "code",
      "source": [
        "# b. Neural Networks"
      ],
      "metadata": {
        "id": "9zCVt9HMNBuA"
      },
      "execution_count": null,
      "outputs": []
    },
    {
      "cell_type": "markdown",
      "source": [
        "5. What are the main challenges in training deep neural networks?\n",
        "* a. Lack of labeled data\n",
        "* b. Overfitting\n",
        "* c. Underfitting\n",
        "* d. None of the above"
      ],
      "metadata": {
        "id": "gQ1myaUrNMJR"
      }
    },
    {
      "cell_type": "code",
      "source": [
        "# b. Overfitting"
      ],
      "metadata": {
        "id": "dIv8F2p4NQN4"
      },
      "execution_count": null,
      "outputs": []
    },
    {
      "cell_type": "markdown",
      "source": [
        "6. Which technology is a subset of AI and focuses on training models to learn\n",
        "from data?\n",
        "* a. Artificial Intelligence\n",
        "* b. Machine Learning\n",
        "* c. Deep Learning\n",
        "* d. Data Science"
      ],
      "metadata": {
        "id": "ynsBFu6PN4oq"
      }
    },
    {
      "cell_type": "code",
      "source": [
        "# b. Machine Learning"
      ],
      "metadata": {
        "id": "n8J3S8XBOC0a"
      },
      "execution_count": null,
      "outputs": []
    },
    {
      "cell_type": "markdown",
      "source": [
        "7. In the context of Deep Learning, what is a neural network?\n",
        "* a. A network of interconnected computers\n",
        "* b. A network of interconnected neurons\n",
        "* c. A network of interconnected databases\n",
        "* d. A network of interconnected algorithms\n"
      ],
      "metadata": {
        "id": "OIp8DrG9OiNi"
      }
    },
    {
      "cell_type": "code",
      "source": [
        "# b. A network of interconnected neurons"
      ],
      "metadata": {
        "id": "0VAn0yfbOocB"
      },
      "execution_count": null,
      "outputs": []
    },
    {
      "cell_type": "markdown",
      "source": [
        "8. What is the role of hyperparameter tuning in the model evaluation phase?\n",
        "* a. To adjust the learning rate\n",
        "* b. To optimize model parameters for better performance\n",
        "* c. To select features\n",
        "* d. To preprocess the data\n"
      ],
      "metadata": {
        "id": "yc_o_42MOzwA"
      }
    },
    {
      "cell_type": "code",
      "source": [
        "# b. To optimize model parameters for better performance"
      ],
      "metadata": {
        "id": "BS2EJGyEO5BM"
      },
      "execution_count": null,
      "outputs": []
    },
    {
      "cell_type": "markdown",
      "source": [
        "9. What is the primary goal during the project initiation phase of a Deep Learning\n",
        "project?\n",
        "* a. Model training\n",
        "* b. Define the problem and scope\n",
        "* c. Hyperparameter tuning\n",
        "* d. Data collection"
      ],
      "metadata": {
        "id": "NRHOKnSOPFEB"
      }
    },
    {
      "cell_type": "code",
      "source": [
        "# b. Define the problem and scope"
      ],
      "metadata": {
        "id": "YSFnGJDuPAHv"
      },
      "execution_count": null,
      "outputs": []
    },
    {
      "cell_type": "markdown",
      "source": [
        "10. Why is continuous monitoring important in the life cycle of a deployed Deep\n",
        "Learning model?\n",
        "* a. To retrain the model from scratch\n",
        "* b. To ensure the model adapts to changing data patterns\n",
        "* c. To deploy a new model version daily\n",
        "* d. To skip the model evaluation phase"
      ],
      "metadata": {
        "id": "LYhjM7pDPkV0"
      }
    },
    {
      "cell_type": "code",
      "source": [
        "# b. To ensure the model adapts to changing data patterns"
      ],
      "metadata": {
        "id": "tzpWrxlxPpeO"
      },
      "execution_count": null,
      "outputs": []
    }
  ]
}