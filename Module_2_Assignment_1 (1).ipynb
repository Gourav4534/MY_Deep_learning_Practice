{
  "nbformat": 4,
  "nbformat_minor": 0,
  "metadata": {
    "colab": {
      "provenance": []
    },
    "kernelspec": {
      "name": "python3",
      "display_name": "Python 3"
    },
    "language_info": {
      "name": "python"
    }
  },
  "cells": [
    {
      "cell_type": "markdown",
      "source": [
        "# Introduction:\n",
        "Neural networks, primarily known for their applications in classification tasks, can\n",
        "also be employed for regression problems. In this exercise, we aim to\n",
        "demonstrate the usage of a simple neural network in predicting a linear\n",
        "relationship between input features and the output.\n",
        "\n",
        "#Objective:\n",
        "The primary objective is to predict the output value y based on two input features\n",
        "x1 and x2 using a basic neural network model with the equation y=3x1+4x2. The\n",
        "neural network will be trained using a feed-forward and back-propagation\n",
        "mechanism to minimize the error between the predicted and actual values."
      ],
      "metadata": {
        "id": "PrPJ9cBiSM5l"
      }
    },
    {
      "cell_type": "markdown",
      "source": [
        "Methodology:\n",
        "1. Activation Functions:\n",
        "* Define the sigmoid function, a popular activation function used in neural\n",
        "networks.\n",
        "* Define the tanh function, which is another common activation function that\n",
        "returns values between -1 and 1.\n",
        "* Define the relu function, which returns positive values as they are and\n",
        "zeroes out negative values"
      ],
      "metadata": {
        "id": "FAqSFtaHSW-i"
      }
    },
    {
      "cell_type": "code",
      "source": [
        "# importing library\n",
        "import numpy as np\n",
        "import matplotlib.pyplot as plt"
      ],
      "metadata": {
        "id": "2BX7JhezS2cw"
      },
      "execution_count": null,
      "outputs": []
    },
    {
      "cell_type": "code",
      "source": [
        "# Sigmoid Activation Function\n",
        "def sigmoid(x):\n",
        "  return 1/(1+np.exp(-x))\n",
        "\n",
        "# tanh Activation function\n",
        "def tanh(x):\n",
        "  return np.tanh(x)\n",
        "\n",
        "# Relu Activation function\n",
        "def relu(x):\n",
        "  return np.maximum(0,x)\n"
      ],
      "metadata": {
        "id": "Z4F4z3PQSX-Q"
      },
      "execution_count": null,
      "outputs": []
    },
    {
      "cell_type": "markdown",
      "source": [
        "# 2.Sample Data\n",
        "Use the Following sample data for training:\n",
        "\n",
        "x1=3, x2=2, yactual=17"
      ],
      "metadata": {
        "id": "yJbIo9qWUkVf"
      }
    },
    {
      "cell_type": "code",
      "source": [
        "x1 = 3\n",
        "x2 = 2\n",
        "y_actual = 17"
      ],
      "metadata": {
        "id": "P7ct03U4Uvvw"
      },
      "execution_count": null,
      "outputs": []
    },
    {
      "cell_type": "markdown",
      "source": [
        "3. Feed Forward:\n",
        "* Initialize the random weights w1 and w2 between 1 and 10.\n",
        "* Predict the output ypred using the equation ypred= x1 x w1 + x2 x w2"
      ],
      "metadata": {
        "id": "8kmqtuOWU7q0"
      }
    },
    {
      "cell_type": "code",
      "source": [
        "# Initial random weights\n",
        "w1, w2 = np.random.uniform(1, 10, 2)\n",
        "\n",
        "# Input values\n",
        "x1, x2 = 3, 2\n",
        "\n",
        "# Prediction\n",
        "y_pred = x1 * w1 + x2 * w2\n",
        "print(y_pred)"
      ],
      "metadata": {
        "colab": {
          "base_uri": "https://localhost:8080/"
        },
        "id": "tf0rbGjyU8ou",
        "outputId": "425aa7d6-e8a8-4ef2-cbeb-32916c392f0e"
      },
      "execution_count": null,
      "outputs": [
        {
          "output_type": "stream",
          "name": "stdout",
          "text": [
            "16.32157292229234\n"
          ]
        }
      ]
    },
    {
      "cell_type": "markdown",
      "source": [
        "4. Error Calculation:\n",
        "\n",
        "Compute the squared error as error = (yactual-ypred)*(yactual-ypred)"
      ],
      "metadata": {
        "id": "dwGEp3-QZydc"
      }
    },
    {
      "cell_type": "code",
      "source": [
        "error = (y_actual - y_pred) ** 2\n",
        "print(error)"
      ],
      "metadata": {
        "colab": {
          "base_uri": "https://localhost:8080/"
        },
        "id": "suw2EXOcZzFu",
        "outputId": "00dabb64-6cd3-48f7-a067-48cc45c285ad"
      },
      "execution_count": null,
      "outputs": [
        {
          "output_type": "stream",
          "name": "stdout",
          "text": [
            "0.4602632997669553\n"
          ]
        }
      ]
    },
    {
      "cell_type": "markdown",
      "source": [
        "5. Back Propagation:\n",
        "* Compute the gradients of the error with respect to the weights.\n",
        "* Update the weights using the computed gradients and a learning rate"
      ],
      "metadata": {
        "id": "3ymr70Q_Yoan"
      }
    },
    {
      "cell_type": "code",
      "source": [
        "learning_rate = 0.01\n",
        "grad_w1 = -2 * (y_actual - y_pred) * x1  # Gradient with respect to w1\n",
        "grad_w2 = -2 * (y_actual - y_pred) * x2  # Gradient with respect to w2\n",
        "\n",
        "# Update the weights\n",
        "w1 = w1 - learning_rate * grad_w1\n",
        "w2 = w2 - learning_rate * grad_w2"
      ],
      "metadata": {
        "id": "r_9hw9OAherI"
      },
      "execution_count": null,
      "outputs": []
    },
    {
      "cell_type": "markdown",
      "source": [
        "6. Training:\n",
        "* The above steps (Feed Forward to Back Propagation) are performed iteratively (20 times in this example) to refine the weights and minimize the error."
      ],
      "metadata": {
        "id": "AfN0IT7Ujubh"
      }
    },
    {
      "cell_type": "code",
      "source": [
        "errors = []\n",
        "predictions = []\n",
        "for epoch in range(20):\n",
        "    # Feed forward\n",
        "    y_pred = x1 * w1 + x2 * w2\n",
        "\n",
        "    # Error calculation\n",
        "    error = (y_actual - y_pred) ** 2\n",
        "\n",
        "    # Back-propagation\n",
        "    grad_w1 = -2 * (y_actual - y_pred) * x1\n",
        "    grad_w2 = -2 * (y_actual - y_pred) * x2\n",
        "\n",
        "    # Update weights\n",
        "    w1 -= learning_rate * grad_w1\n",
        "    w2 -= learning_rate * grad_w2\n",
        "\n",
        "    errors.append(error)  # Store error for this epoch\n",
        "    predictions.append(y_pred) # Store prediction for this epoch\n",
        "\n",
        "    # Print error and prediction for each epoch\n",
        "    print(f'Epoch {epoch+1}, Error: {error}, Prediction: {y_pred}')\n"
      ],
      "metadata": {
        "colab": {
          "base_uri": "https://localhost:8080/"
        },
        "id": "PRvz4Fqvjx9l",
        "outputId": "468776b8-6dec-42e6-f9dc-5903d0aae1b9"
      },
      "execution_count": null,
      "outputs": [
        {
          "output_type": "stream",
          "name": "stdout",
          "text": [
            "Epoch 1, Error: 0.25204018295238445, Prediction: 16.497963962496332\n",
            "Epoch 2, Error: 0.13801720418472652, Prediction: 16.628493332247285\n",
            "Epoch 3, Error: 0.07557822101155573, Prediction: 16.72508506586299\n",
            "Epoch 4, Error: 0.04138663382592902, Prediction: 16.79656294873861\n",
            "Epoch 5, Error: 0.02266332068307856, Prediction: 16.849456582066573\n",
            "Epoch 6, Error: 0.01241043440605385, Prediction: 16.888597870729264\n",
            "Epoch 7, Error: 0.006795953880754784, Prediction: 16.917562424339657\n",
            "Epoch 8, Error: 0.0037214643451014408, Prediction: 16.938996194011345\n",
            "Epoch 9, Error: 0.002037873875377767, Prediction: 16.954857183568393\n",
            "Epoch 10, Error: 0.0011159397341567229, Prediction: 16.966594315840613\n",
            "Epoch 11, Error: 0.0006110885984242952, Prediction: 16.975279793722052\n",
            "Epoch 12, Error: 0.00033463211649710246, Prediction: 16.98170704735432\n",
            "Epoch 13, Error: 0.00018324454699382485, Prediction: 16.986463215042196\n",
            "Epoch 14, Error: 0.0001003447139338256, Prediction: 16.989982779131225\n",
            "Epoch 15, Error: 5.494876535013341e-05, Prediction: 16.99258725655711\n",
            "Epoch 16, Error: 3.008994390577203e-05, Prediction: 16.994514569852257\n",
            "Epoch 17, Error: 1.647725328279615e-05, Prediction: 16.99594078169067\n",
            "Epoch 18, Error: 9.022943897644657e-06, Prediction: 16.9969961784511\n",
            "Epoch 19, Error: 4.940964078353373e-06, Prediction: 16.997777172053812\n",
            "Epoch 20, Error: 2.705671929307476e-06, Prediction: 16.99835510731982\n"
          ]
        }
      ]
    },
    {
      "cell_type": "markdown",
      "source": [
        "# 7. Visualization:\n",
        "* Plot the progression of the error across epochs.\n",
        "* Plot the progression of y_pred across epochs"
      ],
      "metadata": {
        "id": "7VNYa3qzlK0-"
      }
    },
    {
      "cell_type": "code",
      "source": [
        "#epochs\n",
        "epochs = range(1, 21)\n",
        "\n",
        "# Plot error progression\n",
        "plt.plot(epochs, errors)\n",
        "plt.xlabel('Epochs')\n",
        "plt.ylabel('Error')\n",
        "plt.title('Error across Epochs')\n",
        "plt.show()\n",
        "\n",
        "# Plot y_pred progression\n",
        "plt.plot(epochs,predictions )\n",
        "plt.xlabel('Epochs')\n",
        "plt.ylabel('Predicted Value')\n",
        "plt.title('Prediction across Epochs')\n",
        "plt.show()"
      ],
      "metadata": {
        "colab": {
          "base_uri": "https://localhost:8080/",
          "height": 927
        },
        "id": "CgA1p4C2kfrw",
        "outputId": "2bb90ae6-0981-490e-d7d5-1f01c58d6743"
      },
      "execution_count": null,
      "outputs": [
        {
          "output_type": "display_data",
          "data": {
            "text/plain": [
              "<Figure size 640x480 with 1 Axes>"
            ],
            "image/png": "[encoded data removed]"
          },
          "metadata": {}
        },
        {
          "output_type": "display_data",
          "data": {
            "text/plain": [
              "<Figure size 640x480 with 1 Axes>"
            ],
            "image/png": "[encoded data removed]"
          },
          "metadata": {}
        }
      ]
    },
    {
      "cell_type": "code",
      "source": [],
      "metadata": {
        "id": "vD0glLu9mDd8"
      },
      "execution_count": null,
      "outputs": []
    }
  ]
}