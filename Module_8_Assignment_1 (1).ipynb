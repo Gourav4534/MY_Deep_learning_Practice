{
  "nbformat": 4,
  "nbformat_minor": 0,
  "metadata": {
    "colab": {
      "provenance": [],
      "gpuType": "T4"
    },
    "kernelspec": {
      "name": "python3",
      "display_name": "Python 3"
    },
    "language_info": {
      "name": "python"
    },
    "accelerator": "GPU"
  },
  "cells": [
    {
      "cell_type": "code",
      "execution_count": null,
      "metadata": {
        "id": "s_J3Ip8qdbZH"
      },
      "outputs": [],
      "source": [
        "# import library\n",
        "import tensorflow as tf\n",
        "from tensorflow.keras.datasets import imdb\n",
        "from tensorflow.keras.preprocessing.sequence import pad_sequences\n",
        "from tensorflow.keras.models import Sequential\n",
        "from tensorflow.keras.layers import Embedding, SimpleRNN, Dense"
      ]
    },
    {
      "cell_type": "code",
      "source": [
        "# load the data\n",
        "(x_train, y_train), (x_test, y_test) = imdb.load_data(num_words=10000)"
      ],
      "metadata": {
        "id": "MYU-37yaek_S"
      },
      "execution_count": null,
      "outputs": []
    },
    {
      "cell_type": "code",
      "source": [
        "# pad the sequences to all reviews have same length\n",
        "x_train = pad_sequences(x_train, maxlen=500) # 500 words\n",
        "x_test = pad_sequences(x_test, maxlen=500)   # 500 words"
      ],
      "metadata": {
        "id": "3SFSaThbe5lb"
      },
      "execution_count": null,
      "outputs": []
    },
    {
      "cell_type": "code",
      "source": [
        "print(f'x train shape: {x_train.shape}')\n",
        "print(f'x shape: {y_train.shape}')\n",
        "print(f'y train shape: {x_test.shape}')\n",
        "print(f'y test shape: {y_test.shape}')"
      ],
      "metadata": {
        "colab": {
          "base_uri": "https://localhost:8080/"
        },
        "id": "BTTfFCTrfTMS",
        "outputId": "719b64e2-1a9c-4a6d-d5b6-e03de12c5658"
      },
      "execution_count": null,
      "outputs": [
        {
          "output_type": "stream",
          "name": "stdout",
          "text": [
            "x train shape: (25000, 500)\n",
            "x shape: (25000,)\n",
            "y train shape: (25000, 500)\n",
            "y test shape: (25000,)\n"
          ]
        }
      ]
    },
    {
      "cell_type": "code",
      "source": [
        "# Model Building\n",
        "model = Sequential()\n",
        "model.add(Embedding(input_dim=10000,output_dim=32,input_length=500))\n",
        "model.add(SimpleRNN(units=100))\n",
        "model.add(Dense(1,activation='sigmoid'))"
      ],
      "metadata": {
        "colab": {
          "base_uri": "https://localhost:8080/"
        },
        "id": "qiNo5bSbfeP5",
        "outputId": "f99b1731-8f84-4fbd-c59a-83821877ffa5"
      },
      "execution_count": null,
      "outputs": [
        {
          "output_type": "stream",
          "name": "stderr",
          "text": [
            "/usr/local/lib/python3.10/dist-packages/keras/src/layers/core/embedding.py:90: UserWarning: Argument `input_length` is deprecated. Just remove it.\n",
            "  warnings.warn(\n"
          ]
        }
      ]
    },
    {
      "cell_type": "code",
      "source": [
        "# Compile the model\n",
        "model.compile(optimizer='adam', loss='binary_crossentropy', metrics=['accuracy'])"
      ],
      "metadata": {
        "id": "1ZvxWT2Eh8jP"
      },
      "execution_count": null,
      "outputs": []
    },
    {
      "cell_type": "code",
      "source": [
        "# Train the model\n",
        "history = model.fit(x_train, y_train,\n",
        "                    validation_split=0.2,  # Use 20% of the data for validation\n",
        "                    epochs=30,\n",
        "                    batch_size=128)\n"
      ],
      "metadata": {
        "colab": {
          "base_uri": "https://localhost:8080/"
        },
        "id": "QOnNTgbcjCPz",
        "outputId": "b433c34d-c591-4ae8-f968-e4ffd55eeb7e"
      },
      "execution_count": null,
      "outputs": [
        {
          "output_type": "stream",
          "name": "stdout",
          "text": [
            "Epoch 1/30\n",
            "\u001b[1m157/157\u001b[0m \u001b[32m━━━━━━━━━━━━━━━━━━━━\u001b[0m\u001b[37m\u001b[0m \u001b[1m13s\u001b[0m 69ms/step - accuracy: 0.5288 - loss: 0.6891 - val_accuracy: 0.6242 - val_loss: 0.6493\n",
            "Epoch 2/30\n",
            "\u001b[1m157/157\u001b[0m \u001b[32m━━━━━━━━━━━━━━━━━━━━\u001b[0m\u001b[37m\u001b[0m \u001b[1m9s\u001b[0m 57ms/step - accuracy: 0.7245 - loss: 0.5626 - val_accuracy: 0.6630 - val_loss: 0.5959\n",
            "Epoch 3/30\n",
            "\u001b[1m157/157\u001b[0m \u001b[32m━━━━━━━━━━━━━━━━━━━━\u001b[0m\u001b[37m\u001b[0m \u001b[1m8s\u001b[0m 54ms/step - accuracy: 0.7894 - loss: 0.4644 - val_accuracy: 0.8218 - val_loss: 0.4199\n",
            "Epoch 4/30\n",
            "\u001b[1m157/157\u001b[0m \u001b[32m━━━━━━━━━━━━━━━━━━━━\u001b[0m\u001b[37m\u001b[0m \u001b[1m9s\u001b[0m 58ms/step - accuracy: 0.8679 - loss: 0.3187 - val_accuracy: 0.8370 - val_loss: 0.3931\n",
            "Epoch 5/30\n",
            "\u001b[1m157/157\u001b[0m \u001b[32m━━━━━━━━━━━━━━━━━━━━\u001b[0m\u001b[37m\u001b[0m \u001b[1m10s\u001b[0m 58ms/step - accuracy: 0.8235 - loss: 0.4034 - val_accuracy: 0.7024 - val_loss: 0.5685\n",
            "Epoch 6/30\n",
            "\u001b[1m157/157\u001b[0m \u001b[32m━━━━━━━━━━━━━━━━━━━━\u001b[0m\u001b[37m\u001b[0m \u001b[1m9s\u001b[0m 58ms/step - accuracy: 0.8158 - loss: 0.4296 - val_accuracy: 0.8040 - val_loss: 0.4668\n",
            "Epoch 7/30\n",
            "\u001b[1m157/157\u001b[0m \u001b[32m━━━━━━━━━━━━━━━━━━━━\u001b[0m\u001b[37m\u001b[0m \u001b[1m8s\u001b[0m 53ms/step - accuracy: 0.8892 - loss: 0.2792 - val_accuracy: 0.6656 - val_loss: 0.6311\n",
            "Epoch 8/30\n",
            "\u001b[1m157/157\u001b[0m \u001b[32m━━━━━━━━━━━━━━━━━━━━\u001b[0m\u001b[37m\u001b[0m \u001b[1m9s\u001b[0m 57ms/step - accuracy: 0.7927 - loss: 0.4394 - val_accuracy: 0.8056 - val_loss: 0.4750\n",
            "Epoch 9/30\n",
            "\u001b[1m157/157\u001b[0m \u001b[32m━━━━━━━━━━━━━━━━━━━━\u001b[0m\u001b[37m\u001b[0m \u001b[1m9s\u001b[0m 56ms/step - accuracy: 0.9030 - loss: 0.2457 - val_accuracy: 0.8160 - val_loss: 0.4510\n",
            "Epoch 10/30\n",
            "\u001b[1m157/157\u001b[0m \u001b[32m━━━━━━━━━━━━━━━━━━━━\u001b[0m\u001b[37m\u001b[0m \u001b[1m10s\u001b[0m 54ms/step - accuracy: 0.9166 - loss: 0.2253 - val_accuracy: 0.8112 - val_loss: 0.4586\n",
            "Epoch 11/30\n",
            "\u001b[1m157/157\u001b[0m \u001b[32m━━━━━━━━━━━━━━━━━━━━\u001b[0m\u001b[37m\u001b[0m \u001b[1m9s\u001b[0m 54ms/step - accuracy: 0.9402 - loss: 0.1690 - val_accuracy: 0.8286 - val_loss: 0.4829\n",
            "Epoch 12/30\n",
            "\u001b[1m157/157\u001b[0m \u001b[32m━━━━━━━━━━━━━━━━━━━━\u001b[0m\u001b[37m\u001b[0m \u001b[1m11s\u001b[0m 57ms/step - accuracy: 0.9509 - loss: 0.1479 - val_accuracy: 0.8148 - val_loss: 0.5340\n",
            "Epoch 13/30\n",
            "\u001b[1m157/157\u001b[0m \u001b[32m━━━━━━━━━━━━━━━━━━━━\u001b[0m\u001b[37m\u001b[0m \u001b[1m9s\u001b[0m 57ms/step - accuracy: 0.9534 - loss: 0.1436 - val_accuracy: 0.8268 - val_loss: 0.5810\n",
            "Epoch 14/30\n",
            "\u001b[1m157/157\u001b[0m \u001b[32m━━━━━━━━━━━━━━━━━━━━\u001b[0m\u001b[37m\u001b[0m \u001b[1m8s\u001b[0m 54ms/step - accuracy: 0.9606 - loss: 0.1244 - val_accuracy: 0.8222 - val_loss: 0.5503\n",
            "Epoch 15/30\n",
            "\u001b[1m157/157\u001b[0m \u001b[32m━━━━━━━━━━━━━━━━━━━━\u001b[0m\u001b[37m\u001b[0m \u001b[1m10s\u001b[0m 54ms/step - accuracy: 0.9682 - loss: 0.1108 - val_accuracy: 0.8168 - val_loss: 0.6660\n",
            "Epoch 16/30\n",
            "\u001b[1m157/157\u001b[0m \u001b[32m━━━━━━━━━━━━━━━━━━━━\u001b[0m\u001b[37m\u001b[0m \u001b[1m10s\u001b[0m 55ms/step - accuracy: 0.9339 - loss: 0.1857 - val_accuracy: 0.7956 - val_loss: 0.5704\n",
            "Epoch 17/30\n",
            "\u001b[1m157/157\u001b[0m \u001b[32m━━━━━━━━━━━━━━━━━━━━\u001b[0m\u001b[37m\u001b[0m \u001b[1m11s\u001b[0m 61ms/step - accuracy: 0.9475 - loss: 0.1533 - val_accuracy: 0.8168 - val_loss: 0.5723\n",
            "Epoch 18/30\n",
            "\u001b[1m157/157\u001b[0m \u001b[32m━━━━━━━━━━━━━━━━━━━━\u001b[0m\u001b[37m\u001b[0m \u001b[1m10s\u001b[0m 64ms/step - accuracy: 0.9533 - loss: 0.1350 - val_accuracy: 0.7688 - val_loss: 0.6433\n",
            "Epoch 19/30\n",
            "\u001b[1m157/157\u001b[0m \u001b[32m━━━━━━━━━━━━━━━━━━━━\u001b[0m\u001b[37m\u001b[0m \u001b[1m10s\u001b[0m 64ms/step - accuracy: 0.9536 - loss: 0.1391 - val_accuracy: 0.7990 - val_loss: 0.5889\n",
            "Epoch 20/30\n",
            "\u001b[1m157/157\u001b[0m \u001b[32m━━━━━━━━━━━━━━━━━━━━\u001b[0m\u001b[37m\u001b[0m \u001b[1m10s\u001b[0m 66ms/step - accuracy: 0.9491 - loss: 0.1365 - val_accuracy: 0.8244 - val_loss: 0.5564\n",
            "Epoch 21/30\n",
            "\u001b[1m157/157\u001b[0m \u001b[32m━━━━━━━━━━━━━━━━━━━━\u001b[0m\u001b[37m\u001b[0m \u001b[1m10s\u001b[0m 64ms/step - accuracy: 0.9570 - loss: 0.1226 - val_accuracy: 0.8044 - val_loss: 0.6258\n",
            "Epoch 22/30\n",
            "\u001b[1m157/157\u001b[0m \u001b[32m━━━━━━━━━━━━━━━━━━━━\u001b[0m\u001b[37m\u001b[0m \u001b[1m10s\u001b[0m 64ms/step - accuracy: 0.9598 - loss: 0.1214 - val_accuracy: 0.8140 - val_loss: 0.7211\n",
            "Epoch 23/30\n",
            "\u001b[1m157/157\u001b[0m \u001b[32m━━━━━━━━━━━━━━━━━━━━\u001b[0m\u001b[37m\u001b[0m \u001b[1m10s\u001b[0m 61ms/step - accuracy: 0.9771 - loss: 0.0779 - val_accuracy: 0.8160 - val_loss: 0.6868\n",
            "Epoch 24/30\n",
            "\u001b[1m157/157\u001b[0m \u001b[32m━━━━━━━━━━━━━━━━━━━━\u001b[0m\u001b[37m\u001b[0m \u001b[1m10s\u001b[0m 62ms/step - accuracy: 0.9865 - loss: 0.0544 - val_accuracy: 0.8118 - val_loss: 0.7358\n",
            "Epoch 25/30\n",
            "\u001b[1m157/157\u001b[0m \u001b[32m━━━━━━━━━━━━━━━━━━━━\u001b[0m\u001b[37m\u001b[0m \u001b[1m10s\u001b[0m 64ms/step - accuracy: 0.9854 - loss: 0.0566 - val_accuracy: 0.8094 - val_loss: 0.7671\n",
            "Epoch 26/30\n",
            "\u001b[1m157/157\u001b[0m \u001b[32m━━━━━━━━━━━━━━━━━━━━\u001b[0m\u001b[37m\u001b[0m \u001b[1m10s\u001b[0m 64ms/step - accuracy: 0.9879 - loss: 0.0471 - val_accuracy: 0.7438 - val_loss: 0.7747\n",
            "Epoch 27/30\n",
            "\u001b[1m157/157\u001b[0m \u001b[32m━━━━━━━━━━━━━━━━━━━━\u001b[0m\u001b[37m\u001b[0m \u001b[1m10s\u001b[0m 62ms/step - accuracy: 0.9730 - loss: 0.0836 - val_accuracy: 0.8098 - val_loss: 0.8491\n",
            "Epoch 28/30\n",
            "\u001b[1m157/157\u001b[0m \u001b[32m━━━━━━━━━━━━━━━━━━━━\u001b[0m\u001b[37m\u001b[0m \u001b[1m10s\u001b[0m 63ms/step - accuracy: 0.9491 - loss: 0.1273 - val_accuracy: 0.7892 - val_loss: 0.6926\n",
            "Epoch 29/30\n",
            "\u001b[1m157/157\u001b[0m \u001b[32m━━━━━━━━━━━━━━━━━━━━\u001b[0m\u001b[37m\u001b[0m \u001b[1m10s\u001b[0m 64ms/step - accuracy: 0.9539 - loss: 0.1388 - val_accuracy: 0.8154 - val_loss: 0.7946\n",
            "Epoch 30/30\n",
            "\u001b[1m157/157\u001b[0m \u001b[32m━━━━━━━━━━━━━━━━━━━━\u001b[0m\u001b[37m\u001b[0m \u001b[1m10s\u001b[0m 64ms/step - accuracy: 0.9099 - loss: 0.2134 - val_accuracy: 0.7866 - val_loss: 0.6656\n"
          ]
        }
      ]
    },
    {
      "cell_type": "code",
      "source": [
        "# Evaluate the model on the test set\n",
        "test_loss, test_accuracy = model.evaluate(x_test, y_test)\n",
        "print(f'Test Accuracy: {test_accuracy}')\n"
      ],
      "metadata": {
        "colab": {
          "base_uri": "https://localhost:8080/"
        },
        "id": "7qUEEmPQjRPW",
        "outputId": "6f73eb76-a530-469c-9794-228ee2cf88df"
      },
      "execution_count": null,
      "outputs": [
        {
          "output_type": "stream",
          "name": "stdout",
          "text": [
            "\u001b[1m782/782\u001b[0m \u001b[32m━━━━━━━━━━━━━━━━━━━━\u001b[0m\u001b[37m\u001b[0m \u001b[1m17s\u001b[0m 22ms/step - accuracy: 0.7793 - loss: 0.6691\n",
            "Test Accuracy: 0.7813199758529663\n"
          ]
        }
      ]
    },
    {
      "cell_type": "code",
      "source": [
        "# Save the model\n",
        "model.save('sentiment_analysis_model.h5')"
      ],
      "metadata": {
        "colab": {
          "base_uri": "https://localhost:8080/"
        },
        "id": "uRPvbNHJo91v",
        "outputId": "4db1f3c1-6ba5-48f3-b7c1-2bf5cf013633"
      },
      "execution_count": null,
      "outputs": [
        {
          "output_type": "stream",
          "name": "stderr",
          "text": [
            "WARNING:absl:You are saving your model as an HDF5 file via `model.save()` or `keras.saving.save_model(model)`. This file format is considered legacy. We recommend using instead the native Keras format, e.g. `model.save('my_model.keras')` or `keras.saving.save_model(model, 'my_model.keras')`. \n"
          ]
        }
      ]
    },
    {
      "cell_type": "code",
      "source": [
        "# Function to predict sentiment of a review using the loaded model\n",
        "def predict_sentiment(review, model):\n",
        "    # Load the IMDB tokenizer to convert words to indices\n",
        "    word_index = imdb.get_word_index()\n",
        "\n",
        "    # Preprocess the review\n",
        "    review_encoded = [word_index.get(word.lower(), 0) for word in review.split()]\n",
        "    review_padded = pad_sequences([review_encoded], maxlen=500)\n",
        "\n",
        "    # Make a prediction\n",
        "    prediction = model.predict(review_padded)\n",
        "    sentiment = 'Positive' if prediction[0][0] > 0.5 else 'Negative'\n",
        "    confidence = prediction[0][0] if sentiment == 'Positive' else 1 - prediction[0][0]\n",
        "\n",
        "    return sentiment, confidence\n"
      ],
      "metadata": {
        "id": "oAZskizcmKDt"
      },
      "execution_count": null,
      "outputs": []
    },
    {
      "cell_type": "code",
      "source": [
        "# Test the function with sample reviews\n",
        "sample_reviews = [\n",
        "    \"I loved this movie! It was fantastic and thrilling.\",\n",
        "    \"This film was terrible. I hated it and would not recommend it.\"\n",
        "]\n",
        "\n",
        "for review in sample_reviews:\n",
        "    sentiment, confidence = predict_sentiment(review, loaded_model)\n",
        "    print(f\"Review: {review}\\nPredicted Sentiment: {sentiment}, Confidence: {confidence:.4f}\\n\")"
      ],
      "metadata": {
        "colab": {
          "base_uri": "https://localhost:8080/"
        },
        "id": "j5KXfobYnjak",
        "outputId": "6f489848-0c24-48cf-9629-8bd2b97621bb"
      },
      "execution_count": null,
      "outputs": [
        {
          "output_type": "stream",
          "name": "stdout",
          "text": [
            "Downloading data from https://storage.googleapis.com/tensorflow/tf-keras-datasets/imdb_word_index.json\n",
            "\u001b[1m1641221/1641221\u001b[0m \u001b[32m━━━━━━━━━━━━━━━━━━━━\u001b[0m\u001b[37m\u001b[0m \u001b[1m0s\u001b[0m 0us/step\n",
            "\u001b[1m1/1\u001b[0m \u001b[32m━━━━━━━━━━━━━━━━━━━━\u001b[0m\u001b[37m\u001b[0m \u001b[1m0s\u001b[0m 358ms/step\n",
            "Review: I loved this movie! It was fantastic and thrilling.\n",
            "Predicted Sentiment: Positive, Confidence: 0.9998\n",
            "\n",
            "\u001b[1m1/1\u001b[0m \u001b[32m━━━━━━━━━━━━━━━━━━━━\u001b[0m\u001b[37m\u001b[0m \u001b[1m0s\u001b[0m 18ms/step\n",
            "Review: This film was terrible. I hated it and would not recommend it.\n",
            "Predicted Sentiment: Positive, Confidence: 0.9995\n",
            "\n"
          ]
        }
      ]
    },
    {
      "cell_type": "code",
      "source": [],
      "metadata": {
        "id": "BhKv3WPEntSj"
      },
      "execution_count": null,
      "outputs": []
    }
  ]
}